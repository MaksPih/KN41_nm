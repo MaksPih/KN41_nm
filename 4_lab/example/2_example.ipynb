{
 "cells": [
  {
   "cell_type": "code",
   "execution_count": 1,
   "metadata": {},
   "outputs": [],
   "source": [
    "import numpy as np"
   ]
  },
  {
   "cell_type": "markdown",
   "metadata": {},
   "source": [
    "### арифтметичні операції над Нампай масивами"
   ]
  },
  {
   "cell_type": "code",
   "execution_count": 2,
   "metadata": {},
   "outputs": [
    {
     "name": "stdout",
     "output_type": "stream",
     "text": [
      "\n",
      "Початкова рандомна матриця: \n",
      "[[9 5 8]\n",
      " [7 7 4]\n",
      " [8 4 1]]\n",
      "Початкова матриця ідентичності: \n",
      "[[1. 0. 0.]\n",
      " [0. 1. 0.]\n",
      " [0. 0. 1.]]\n",
      "Арифметичні операції які здйснюються поелементно:\n",
      "Додавання\n",
      "[[11.  6.  9.]\n",
      " [ 8.  9.  5.]\n",
      " [ 9.  5.  3.]] \n",
      "Віднімання\n",
      "[[13. 10. 13.]\n",
      " [12. 11.  9.]\n",
      " [13.  9.  5.]]\n",
      "Множення і решта операцій (складні вирази)\n",
      "[[ 24.   0.  15.]\n",
      " [ 10.  12.  -5.]\n",
      " [ 15.  -5. -24.]]\n",
      "\n",
      "\n",
      "[9 5 8 7 7 8]\n",
      "\n"
     ]
    }
   ],
   "source": [
    "rm = np.random.randint(0, 10, size=(3,3))\n",
    "im = np.identity(3)\n",
    "\n",
    "print(f\"\"\"\n",
    "Початкова рандомна матриця: \n",
    "{rm}\n",
    "Початкова матриця ідентичності: \n",
    "{im}\n",
    "Арифметичні операції які здйснюються поелементно:\n",
    "Додавання\n",
    "{rm + im + 1} \n",
    "Віднімання\n",
    "{rm - im + 5}\n",
    "Множення і решта операцій (складні вирази)\n",
    "{(rm - 5) * (im + 5) }\n",
    "\n",
    "\n",
    "{rm[rm >= 5]}\n",
    "\"\"\")"
   ]
  },
  {
   "cell_type": "markdown",
   "metadata": {},
   "source": [
    "### трохи про вищу математику"
   ]
  },
  {
   "cell_type": "code",
   "execution_count": 3,
   "metadata": {},
   "outputs": [
    {
     "data": {
      "text/plain": [
       "np.float64(-180.0)"
      ]
     },
     "execution_count": 3,
     "metadata": {},
     "output_type": "execute_result"
    }
   ],
   "source": [
    "# навіть якщо ми не знаємо як рахувати детернінант матриці, Пайтон знає\n",
    "np.linalg.det(rm)"
   ]
  },
  {
   "cell_type": "code",
   "execution_count": 4,
   "metadata": {},
   "outputs": [
    {
     "data": {
      "text/plain": [
       "matrix([[9, 5, 8],\n",
       "        [7, 7, 4],\n",
       "        [8, 4, 1]])"
      ]
     },
     "execution_count": 4,
     "metadata": {},
     "output_type": "execute_result"
    }
   ],
   "source": [
    "RM = np.matrix(rm)\n",
    "\n",
    "RM"
   ]
  },
  {
   "cell_type": "code",
   "execution_count": 5,
   "metadata": {},
   "outputs": [
    {
     "name": "stdout",
     "output_type": "stream",
     "text": [
      "Маємо два масиви:\n",
      " [[1 2 3]\n",
      " [2 2 2]\n",
      " [3 3 3]] \n",
      " [[ 3  2  1]\n",
      " [ 1  2  3]\n",
      " [-1 -2 -3]]\n",
      "Тут виконується поелементне множення:\n",
      " [[ 3  4  3]\n",
      " [ 2  4  6]\n",
      " [-3 -6 -9]]\n",
      "Тут, масиви перемножуються як матриці:\n",
      " [[ 2  0 -2]\n",
      " [ 6  4  2]\n",
      " [ 9  6  3]]\n",
      "Тут масиви перетворені на матриці і далі перемножуються:\n",
      " \n",
      "[[ 2  0 -2]\n",
      " [ 6  4  2]\n",
      " [ 9  6  3]] \n",
      "Так само  як і:\n",
      "[[ 2  0 -2]\n",
      " [ 6  4  2]\n",
      " [ 9  6  3]]\n",
      "\n"
     ]
    }
   ],
   "source": [
    "A = np.array([ [1, 2, 3], [2, 2, 2], [3, 3, 3] ])\n",
    "B = np.array([ [3, 2, 1], [1, 2, 3], [-1, -2, -3] ])\n",
    "print(f\"Маємо два масиви:\\n {A} \\n {B}\")\n",
    "\n",
    "R = A * B\n",
    "print(f\"Тут виконується поелементне множення:\\n {R}\")\n",
    "\n",
    "R = np.dot(A, B)\n",
    "print(f\"Тут, масиви перемножуються як матриці:\\n {R}\")\n",
    "\n",
    "MA = np.matrix(A)\n",
    "MB = np.matrix(B)\n",
    "\n",
    "print(f\"\"\"Тут масиви перетворені на матриці і далі перемножуються:\\n \n",
    "{MA * MB} \n",
    "Так само  як і:\n",
    "{MA.dot(MB)}\n",
    "\"\"\")"
   ]
  },
  {
   "cell_type": "markdown",
   "metadata": {},
   "source": [
    "### Пробуємо вирівнювати масиви"
   ]
  },
  {
   "cell_type": "code",
   "execution_count": 6,
   "metadata": {},
   "outputs": [
    {
     "name": "stdout",
     "output_type": "stream",
     "text": [
      "(3, 3) [[9 5 8]\n",
      " [7 7 4]\n",
      " [8 4 1]]\n",
      "(3,) [1 2 3]\n",
      "(3, 1) [[1]\n",
      " [2]\n",
      " [3]]\n",
      "(1, 3, 1)\n"
     ]
    },
    {
     "data": {
      "text/plain": [
       "array([[[10,  6,  9],\n",
       "        [ 9,  9,  6],\n",
       "        [11,  7,  4]]])"
      ]
     },
     "execution_count": 6,
     "metadata": {},
     "output_type": "execute_result"
    }
   ],
   "source": [
    "print(rm.shape, rm)\n",
    "\n",
    "a1 = np.array([1, 2, 3])\n",
    "print(a1.shape, a1)\n",
    "\n",
    "rm + a1\n",
    "\n",
    "a2 = np.array([ [1], [2], [3] ])\n",
    "print(a2.shape, a2)\n",
    "\n",
    "rm + a2\n",
    "\n",
    "A2 = a2[np.newaxis, :]\n",
    "print(A2.shape)\n",
    "\n",
    "rm + A2"
   ]
  }
 ],
 "metadata": {
  "kernelspec": {
   "display_name": "Python 3",
   "language": "python",
   "name": "python3"
  },
  "language_info": {
   "codemirror_mode": {
    "name": "ipython",
    "version": 3
   },
   "file_extension": ".py",
   "mimetype": "text/x-python",
   "name": "python",
   "nbconvert_exporter": "python",
   "pygments_lexer": "ipython3",
   "version": "3.12.6"
  }
 },
 "nbformat": 4,
 "nbformat_minor": 2
}
