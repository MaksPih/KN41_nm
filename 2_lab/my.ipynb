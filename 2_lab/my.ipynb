{
 "cells": [
  {
   "cell_type": "markdown",
   "metadata": {},
   "source": [
    "# Основи Pyphon\n",
    "## 1. Змінні та типи даних\n",
    "\n",
    "Python є динамічно типізованою мовою, тобто змінні не потребують явного визначення типу."
   ]
  },
  {
   "cell_type": "code",
   "execution_count": 1,
   "metadata": {},
   "outputs": [],
   "source": [
    "x = 5            # Це ціле число (int)\n",
    "y = 3.14         # Це число з плаваючою точкою (float)\n",
    "name = \"Anna\"    # Це рядок (str)\n",
    "is_active = True # Це булеве значення (bool)"
   ]
  },
  {
   "cell_type": "markdown",
   "metadata": {},
   "source": [
    "Типи даних:\n",
    "- **int:** Цілі числа (наприклад, 1, -5, 0)\n",
    "- **float:** Числа з плаваючою комою (наприклад, 3.14, -0.01)\n",
    "- **str:** Рядки, текст (наприклад, “Привіт”)\n",
    "- **bool:** Логічні значення (True або False)\n",
    "- **list:** Списки (наприклад, [1, 2, 3])\n",
    "- **tuple:** Кортежі (наприклад, (1, 2, 3))\n",
    "- **dict:** Словники (наприклад, {“ключ”: “значення”})\n",
    "- **set:** Множини (наприклад, {1, 2, 3})\n",
    "\n",
    "## 2. Умовні оператори\n",
    "\n",
    "Умовні оператори використовуються для виконання різних дій в залежності від умов."
   ]
  },
  {
   "cell_type": "code",
   "execution_count": null,
   "metadata": {},
   "outputs": [],
   "source": [
    "age = 20\n",
    "if age >= 18:\n",
    "    print(\"Ти повнолітній\")\n",
    "else:\n",
    "    print(\"Ти ще дитина\")"
   ]
  },
  {
   "cell_type": "markdown",
   "metadata": {},
   "source": [
    "Можна також використовувати конструкції if-elif-else для більш складних перевірок.\n",
    "\n",
    " ## 3. Цикли\n",
    " \n",
    "Python має два основних типи циклів: for і while."
   ]
  },
  {
   "cell_type": "code",
   "execution_count": null,
   "metadata": {},
   "outputs": [],
   "source": [
    "# Цикл for\n",
    "numbers = [1, 2, 3, 4]\n",
    "for number in numbers:\n",
    "    print(number)\n",
    "\n",
    "# Цикл while\n",
    "i = 0\n",
    "while i < 5:\n",
    "    print(i)\n",
    "    i += 1"
   ]
  },
  {
   "cell_type": "markdown",
   "metadata": {},
   "source": [
    "## 4. Функції\n",
    "\n",
    "Функції використовуються для групування повторюваного коду."
   ]
  },
  {
   "cell_type": "code",
   "execution_count": null,
   "metadata": {},
   "outputs": [],
   "source": [
    "def greet(name):\n",
    "    return f\"Привіт, {name}!\"\n",
    "\n",
    "print(greet(\"Анна\"))"
   ]
  },
  {
   "cell_type": "markdown",
   "metadata": {},
   "source": [
    "Можна також створювати анонімні функції за допомогою lambda:"
   ]
  },
  {
   "cell_type": "code",
   "execution_count": null,
   "metadata": {},
   "outputs": [],
   "source": [
    "add = lambda a, b: a + b\n",
    "print(add(3, 4))  # Результат: 7"
   ]
  },
  {
   "cell_type": "markdown",
   "metadata": {},
   "source": [
    "## 5. Списки та їх обробка\n",
    "\n",
    "Списки — це змінні послідовності, які можна змінювати."
   ]
  },
  {
   "cell_type": "code",
   "execution_count": null,
   "metadata": {},
   "outputs": [],
   "source": [
    "numbers = [1, 2, 3, 4]\n",
    "numbers.append(5)  # Додає 5 до списку\n",
    "numbers.remove(2)  # Видаляє елемент 2"
   ]
  },
  {
   "cell_type": "markdown",
   "metadata": {},
   "source": [
    "## 6. Словники\n",
    "\n",
    "Словники зберігають пари “ключ-значення”."
   ]
  },
  {
   "cell_type": "code",
   "execution_count": null,
   "metadata": {},
   "outputs": [],
   "source": [
    "person = {\"name\": \"Анна\", \"age\": 25}\n",
    "print(person[\"name\"])  # Виведе: Анна"
   ]
  },
  {
   "cell_type": "markdown",
   "metadata": {},
   "source": [
    "## 7. Обробка помилок\n",
    "\n",
    "Для обробки помилок використовують блоки try-except."
   ]
  },
  {
   "cell_type": "code",
   "execution_count": null,
   "metadata": {},
   "outputs": [],
   "source": [
    "try:\n",
    "    result = 10 / 0\n",
    "except ZeroDivisionError:\n",
    "    print(\"Неможливо ділити на нуль!\")"
   ]
  },
  {
   "cell_type": "markdown",
   "metadata": {},
   "source": [
    "## 8. Контекст-менеджери\n",
    "\n",
    "Контекст-менеджери допомагають автоматично управляти ресурсами, такими як файли."
   ]
  },
  {
   "cell_type": "code",
   "execution_count": null,
   "metadata": {},
   "outputs": [],
   "source": [
    "with open(\"file.txt\", \"r\") as file:\n",
    "    content = file.read()\n",
    "    print(content)"
   ]
  },
  {
   "cell_type": "markdown",
   "metadata": {},
   "source": [
    "## 9. Модулі та пакети\n",
    "\n",
    "Python дозволяє імпортувати модулі та використовувати вбудовані або сторонні бібліотеки."
   ]
  },
  {
   "cell_type": "code",
   "execution_count": null,
   "metadata": {},
   "outputs": [],
   "source": [
    "import math\n",
    "print(math.sqrt(16))  # Виведе: 4.0"
   ]
  },
  {
   "cell_type": "markdown",
   "metadata": {},
   "source": [
    "## 10. Оператори\n",
    "\n",
    "Python підтримує арифметичні (+, -, *, /), порівняльні (==, !=, >, <) і логічні оператори (and, or, not)."
   ]
  },
  {
   "cell_type": "code",
   "execution_count": null,
   "metadata": {},
   "outputs": [],
   "source": [
    "x = 10\n",
    "y = 20\n",
    "print(x + y)  # Виведе: 30\n",
    "print(x > y)  # Виведе: False"
   ]
  },
  {
   "cell_type": "markdown",
   "metadata": {},
   "source": [
    "## 11. Об’єктно-орієнтоване програмування (ООП)\n",
    "\n",
    "Python підтримує об’єктно-орієнтоване програмування з використанням класів."
   ]
  },
  {
   "cell_type": "code",
   "execution_count": null,
   "metadata": {},
   "outputs": [],
   "source": [
    "class Person:\n",
    "    def __init__(self, name, age):\n",
    "        self.name = name\n",
    "        self.age = age\n",
    "\n",
    "    def greet(self):\n",
    "        return f\"Привіт, мене звати {self.name}, мені {self.age} років.\"\n",
    "\n",
    "person = Person(\"Анна\", 25)\n",
    "print(person.greet())"
   ]
  },
  {
   "cell_type": "markdown",
   "metadata": {},
   "source": [
    "## 12. Лямбда-функції\n",
    "\n",
    "Лямбди — це анонімні функції, які можна використовувати, коли потрібна коротка функція."
   ]
  },
  {
   "cell_type": "code",
   "execution_count": null,
   "metadata": {},
   "outputs": [],
   "source": [
    "multiply = lambda x, y: x * y\n",
    "print(multiply(3, 4))  # Виведе: 12"
   ]
  },
  {
   "cell_type": "markdown",
   "metadata": {},
   "source": [
    "## Висновок\n",
    "\n",
    "Python — це мова, яка відома своєю простотою і читабельністю. Вона широко використовується для веб-розробки, аналізу даних, автоматизації, створення ігор та іншого. Зрозуміти її основи неважко, але вона також надає багато інструментів для створення складних систем."
   ]
  }
 ],
 "metadata": {
  "kernelspec": {
   "display_name": "Python 3",
   "language": "python",
   "name": "python3"
  },
  "language_info": {
   "codemirror_mode": {
    "name": "ipython",
    "version": 3
   },
   "file_extension": ".py",
   "mimetype": "text/x-python",
   "name": "python",
   "nbconvert_exporter": "python",
   "pygments_lexer": "ipython3",
   "version": "3.12.6"
  }
 },
 "nbformat": 4,
 "nbformat_minor": 2
}
