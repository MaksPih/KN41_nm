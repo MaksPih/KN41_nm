{
 "cells": [
  {
   "cell_type": "markdown",
   "metadata": {},
   "source": [
    "1) Познайомився з основнимим типами даних. Попрактикувався з простими змінними str та int, списками list, наборами set та словниками dict:"
   ]
  },
  {
   "cell_type": "code",
   "execution_count": null,
   "metadata": {},
   "outputs": [],
   "source": [
    "a = \"змінна з текстом\"\n",
    "b = 1 # числова Змінна\n",
    "b1 = 1.1 \n",
    "c = [\"a\", 1, 1.25, \"Слово\", a] # List\n",
    "d = {\"a\": \"Слово\", \"b\": 1, a: b} # Dict\n",
    "e = (\"a\", a) # Tuple\n",
    "f = {\"ss\", a + b} # Set"
   ]
  },
  {
   "cell_type": "markdown",
   "metadata": {},
   "source": [
    "2) Вивів вбудовані константи:"
   ]
  },
  {
   "cell_type": "code",
   "execution_count": 3,
   "metadata": {},
   "outputs": [
    {
     "name": "stdout",
     "output_type": "stream",
     "text": [
      "Перша константа:  True\n",
      "Друга константа: None\n",
      "Третя константа:  False\n"
     ]
    }
   ],
   "source": [
    "print(\"Перша константа: \", True)\n",
    "print(f\"Друга константа: {None}\")\n",
    "print(\"Третя константа: \", False)"
   ]
  },
  {
   "cell_type": "markdown",
   "metadata": {},
   "source": [
    "3) Вивів результати роботи вбудованих функцій:"
   ]
  },
  {
   "cell_type": "code",
   "execution_count": 1,
   "metadata": {},
   "outputs": [
    {
     "name": "stdout",
     "output_type": "stream",
     "text": [
      "12.5 є рівним 12.5\n",
      "Сума чисел 5 і 10: 15\n",
      "Мінімальне значення з [3, 7, 2]: 2\n"
     ]
    }
   ],
   "source": [
    "print(abs(-12.5), f\"є рівним {abs(12.5)}\")  # Функція abs\n",
    "print(f\"Сума чисел 5 і 10: {sum([5, 10])}\")  # Функція sum\n",
    "print(f\"Мінімальне значення з [3, 7, 2]: {min(3, 7, 2)}\")  # Функція min"
   ]
  },
  {
   "cell_type": "markdown",
   "metadata": {},
   "source": [
    "4) Познайомився з циклами. Написав код, який демонструє роботу циклів:"
   ]
  },
  {
   "cell_type": "code",
   "execution_count": 5,
   "metadata": {},
   "outputs": [
    {
     "name": "stdout",
     "output_type": "stream",
     "text": [
      "На позиції 0 знаходиться буква a\n",
      "На позиції 1 знаходиться буква b\n",
      "На позиції 2 знаходиться буква c\n",
      "Зворотний відлік: 3\n",
      "Зворотний відлік: 2\n",
      "Зворотний відлік: 1\n",
      "Елемент матриці: 1\n",
      "Елемент матриці: 2\n",
      "Елемент матриці: 3\n",
      "Елемент матриці: 4\n",
      "Елемент матриці: 5\n",
      "Елемент матриці: 6\n",
      "Елемент матриці: 7\n",
      "Елемент матриці: 8\n",
      "Елемент матриці: 9\n"
     ]
    }
   ],
   "source": [
    "# Приклад циклу for\n",
    "letters = [\"a\", \"b\", \"c\"]\n",
    "for i in range(len(letters)):\n",
    "    print(f\"На позиції {i} знаходиться буква {letters[i]}\")\n",
    "\n",
    "# Приклад циклу while\n",
    "counter = 3\n",
    "while counter > 0:\n",
    "    print(f\"Зворотний відлік: {counter}\")\n",
    "    counter -= 1\n",
    "\n",
    "# Приклад вкладеного циклу for\n",
    "matrix = [[1, 2, 3], [4, 5, 6], [7, 8, 9]]\n",
    "for row in matrix:\n",
    "    for element in row:\n",
    "        print(f\"Елемент матриці: {element}\")"
   ]
  },
  {
   "cell_type": "markdown",
   "metadata": {},
   "source": [
    "5) Познайомився з розгалуженнями. Написав код, який демонструє роботу розгалужень:"
   ]
  },
  {
   "cell_type": "code",
   "execution_count": 9,
   "metadata": {},
   "outputs": [
    {
     "name": "stdout",
     "output_type": "stream",
     "text": [
      "Значить A=False\n",
      "Число 16 парне\n",
      "Число 16 знаходиться між 10 і 20\n"
     ]
    }
   ],
   "source": [
    "# Приклад з використанням тернарного оператора\n",
    "A = False\n",
    "print(\"Значить A=True\" if A else \"Значить A=False\")\n",
    "\n",
    "# Приклад з умовним оператором і логічними операторами\n",
    "number = 16\n",
    "if number % 2 == 0:\n",
    "    print(f\"Число {number} парне\")\n",
    "else:\n",
    "    print(f\"Число {number} непарне\")\n",
    "    \n",
    "if number > 10 and number < 20:\n",
    "    print(f\"Число {number} знаходиться між 10 і 20\")"
   ]
  },
  {
   "cell_type": "markdown",
   "metadata": {},
   "source": [
    "6) Варіант коду з помилкою:"
   ]
  },
  {
   "cell_type": "code",
   "execution_count": 10,
   "metadata": {},
   "outputs": [
    {
     "name": "stdout",
     "output_type": "stream",
     "text": [
      "Помилка: division by zero\n",
      "Цей блок виконається у будь-якому випадку.\n"
     ]
    }
   ],
   "source": [
    "A = 0\n",
    "try:\n",
    "    print(\"Що буде якщо\", 10 / A, \"?\")  # Ділення на нуль викличе помилку\n",
    "except ZeroDivisionError as e:\n",
    "    print(f\"Помилка: {e}\")\n",
    "finally:\n",
    "    print(\"Цей блок виконається у будь-якому випадку.\")"
   ]
  },
  {
   "cell_type": "markdown",
   "metadata": {},
   "source": [
    "7) Код з контекст-менеджером:"
   ]
  },
  {
   "cell_type": "code",
   "execution_count": 22,
   "metadata": {},
   "outputs": [
    {
     "name": "stdout",
     "output_type": "stream",
     "text": [
      "Це текст, який буде записано у файл."
     ]
    }
   ],
   "source": [
    "# Приклад з контекст-менеджером для запису в файл\n",
    "with open(\"example.txt\", \"w\") as f:\n",
    "    f.write(\"Це текст, який буде записано у файл.\")\n",
    "\n",
    "# Тепер відкриємо файл для читання і виведемо його вміст\n",
    "with open(\"example.txt\", \"r\") as f:\n",
    "    for line in f:\n",
    "        print(line, end=\"\")"
   ]
  },
  {
   "cell_type": "markdown",
   "metadata": {},
   "source": [
    "8) Познайомився з lambdas. Приклад коду:"
   ]
  },
  {
   "cell_type": "code",
   "execution_count": 25,
   "metadata": {},
   "outputs": [
    {
     "name": "stdout",
     "output_type": "stream",
     "text": [
      "Це просто функція: <function <lambda> at 0x10509ccc0>\n",
      "Це її виклик з числом 5: 25\n"
     ]
    }
   ],
   "source": [
    "# Лямбда для обчислення квадрата числа\n",
    "square = lambda x: x ** 2\n",
    "print(\"Це просто функція:\", square)\n",
    "print(\"Це її виклик з числом 5:\", square(5))"
   ]
  }
 ],
 "metadata": {
  "kernelspec": {
   "display_name": "Python 3",
   "language": "python",
   "name": "python3"
  },
  "language_info": {
   "codemirror_mode": {
    "name": "ipython",
    "version": 3
   },
   "file_extension": ".py",
   "mimetype": "text/x-python",
   "name": "python",
   "nbconvert_exporter": "python",
   "pygments_lexer": "ipython3",
   "version": "3.12.6"
  }
 },
 "nbformat": 4,
 "nbformat_minor": 2
}
