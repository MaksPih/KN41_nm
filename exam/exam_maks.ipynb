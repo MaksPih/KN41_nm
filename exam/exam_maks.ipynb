{
 "cells": [
  {
   "cell_type": "markdown",
   "metadata": {},
   "source": [
    "### Написати програму з використанням нампай, згенерувати масив з 9 елементів і переформатувати матрицю 3х3"
   ]
  },
  {
   "cell_type": "code",
   "execution_count": 4,
   "metadata": {},
   "outputs": [
    {
     "name": "stdout",
     "output_type": "stream",
     "text": [
      "Заданий масив: [ 6  2 20  4 56 46  7 78  9]\n",
      "\n",
      "Матриця 3x3: [[ 6  2 20]\n",
      " [ 4 56 46]\n",
      " [ 7 78  9]]\n"
     ]
    }
   ],
   "source": [
    "import numpy as np\n",
    "array = np.array([6, 2, 20, 4, 56, 46, 7, 78, 9])\n",
    "print(\"Заданий масив:\", array)\n",
    "matrix = array.reshape(3, 3)\n",
    "print(\"\\nМатриця 3x3:\", matrix)"
   ]
  }
 ],
 "metadata": {
  "kernelspec": {
   "display_name": "Python 3",
   "language": "python",
   "name": "python3"
  },
  "language_info": {
   "codemirror_mode": {
    "name": "ipython",
    "version": 3
   },
   "file_extension": ".py",
   "mimetype": "text/x-python",
   "name": "python",
   "nbconvert_exporter": "python",
   "pygments_lexer": "ipython3",
   "version": "3.12.6"
  }
 },
 "nbformat": 4,
 "nbformat_minor": 2
}
