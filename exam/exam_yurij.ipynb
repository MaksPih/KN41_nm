{
 "cells": [
  {
   "cell_type": "markdown",
   "metadata": {},
   "source": [
    "### Програма на пайтон з використанням нампай, створити випадковий масив з 50 елементів, знаходити екстремуми Мінімуми і Максимуми"
   ]
  },
  {
   "cell_type": "code",
   "execution_count": 3,
   "metadata": {},
   "outputs": [
    {
     "name": "stdout",
     "output_type": "stream",
     "text": [
      "Згенерований масив: [93 28 14 76 76 80 22 74 53 26 87 85 66 46  3 19 88 33 57 10 45 40 29 34\n",
      " 19 70 35  1 31 96 72 64  8 92 37 79 83  5  4 29 49 32 55 73 13 66 87  2\n",
      " 92 98]\n",
      "\n",
      "Мінімальне значення в масиві: 1\n",
      "\n",
      "Максимальне значення в масиві: 98\n"
     ]
    }
   ],
   "source": [
    "import numpy as np\n",
    "array = np.random.randint(1, 101, size=50)\n",
    "print(\"Згенерований масив:\", array)\n",
    "min_value = np.min(array)\n",
    "max_value = np.max(array)\n",
    "print(\"\\nМінімальне значення в масиві:\", min_value)\n",
    "print(\"\\nМаксимальне значення в масиві:\", max_value)"
   ]
  }
 ],
 "metadata": {
  "kernelspec": {
   "display_name": "Python 3",
   "language": "python",
   "name": "python3"
  },
  "language_info": {
   "codemirror_mode": {
    "name": "ipython",
    "version": 3
   },
   "file_extension": ".py",
   "mimetype": "text/x-python",
   "name": "python",
   "nbconvert_exporter": "python",
   "pygments_lexer": "ipython3",
   "version": "3.12.6"
  }
 },
 "nbformat": 4,
 "nbformat_minor": 2
}
