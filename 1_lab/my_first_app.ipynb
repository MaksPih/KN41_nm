{
 "cells": [
  {
   "cell_type": "code",
   "execution_count": 18,
   "metadata": {},
   "outputs": [],
   "source": [
    "from datetime import datetime\n",
    "name = \"Maksym\"\n",
    "location = \"Chernivtsi\"\n",
    "\n",
    "print(f\"{name} start programming at {datetime.now()}. {location} is the best city!\")"
   ]
  },
  {
   "cell_type": "code",
   "execution_count": 7,
   "metadata": {},
   "outputs": [
    {
     "name": "stdout",
     "output_type": "stream",
     "text": [
      "Python — це потужна та легка мова програмування!\n"
     ]
    }
   ],
   "source": [
    "print(\"Python — це потужна та легка мова програмування!\")"
   ]
  },
  {
   "cell_type": "code",
   "execution_count": 17,
   "metadata": {},
   "outputs": [
    {
     "name": "stdout",
     "output_type": "stream",
     "text": [
      "Сума елементів: 87\n",
      "Середнє значення: 17.4\n",
      "Мінімальне значення: 5\n",
      "Максимальне значення: 42\n"
     ]
    }
   ],
   "source": [
    "def process_array():\n",
    "    # Масив чисел\n",
    "    numbers = [10, 5, 23, 7, 42]\n",
    "\n",
    "    # Обчислюємо суму\n",
    "    total_sum = sum(numbers)\n",
    "\n",
    "    # Знаходимо мінімальне і максимальне значення\n",
    "    min_value = min(numbers)\n",
    "    max_value = max(numbers)\n",
    "\n",
    "    # Обчислюємо середнє значення\n",
    "    average = total_sum / len(numbers)\n",
    "\n",
    "    # Виводимо результати\n",
    "    print(f\"Сума елементів: {total_sum}\")\n",
    "    print(f\"Середнє значення: {average}\")\n",
    "    print(f\"Мінімальне значення: {min_value}\")\n",
    "    print(f\"Максимальне значення: {max_value}\")\n",
    "\n",
    "# Викликаємо функцію\n",
    "process_array()"
   ]
  }
 ],
 "metadata": {
  "kernelspec": {
   "display_name": "Python 3",
   "language": "python",
   "name": "python3"
  },
  "language_info": {
   "name": "python",
   "version": "3.12.6"
  }
 },
 "nbformat": 4,
 "nbformat_minor": 2
}
